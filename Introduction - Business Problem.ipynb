{
    "cells": [
        {
            "cell_type": "markdown",
            "metadata": {
                "collapsed": true
            },
            "source": "<h1>Choosing a suburb city when you work in Dallas</h1>"
        },
        {
            "cell_type": "markdown",
            "metadata": {},
            "source": "<h3>Introduction / Business Probem</h3>"
        },
        {
            "cell_type": "markdown",
            "metadata": {},
            "source": "Dallas is major city concentrating many businesses and corporate headquarters, therefore hundreds of thousands of jobs.<br>\nHousing in the city is either very expensive or is poorly served in terms of services and infrastructure, reason why many people who work in Dallas look for houses in the surrounding suburb cities, where the combionation of lower prices and services offer is more attractive."
        },
        {
            "cell_type": "markdown",
            "metadata": {},
            "source": "This Capstone project will explore, segment and cluster the suburb cities in the Dallas-Fort Worth Metroplex area, within 35 miles distance from downtown Dallas, to compare the ratio of schools, hospitals, groceries, malls, parks and theathers per capita in order to provide an insight of better fit depending on the housebuyer interests."
        },
        {
            "cell_type": "code",
            "execution_count": null,
            "metadata": {},
            "outputs": [],
            "source": ""
        }
    ],
    "metadata": {
        "kernelspec": {
            "display_name": "Python 3.7",
            "language": "python",
            "name": "python3"
        },
        "language_info": {
            "codemirror_mode": {
                "name": "ipython",
                "version": 3
            },
            "file_extension": ".py",
            "mimetype": "text/x-python",
            "name": "python",
            "nbconvert_exporter": "python",
            "pygments_lexer": "ipython3",
            "version": "3.7.9"
        }
    },
    "nbformat": 4,
    "nbformat_minor": 1
}