{
    "cells": [
        {
            "cell_type": "markdown",
            "metadata": {
                "collapsed": true
            },
            "source": "<h1>Choosing a suburb city when you work in Dallas</h1>"
        },
        {
            "cell_type": "markdown",
            "metadata": {},
            "source": "<h3>Data Description</h3>"
        },
        {
            "cell_type": "markdown",
            "metadata": {},
            "source": "As the project will explore, segment and cluster the suburb cities in the Dallas-Fort Worth Metroplex area, within 35 miles distance from downtown Dallas, to compare the ratio of schools, hospitals, groceries, malls, parks and theathers per capita in order to provide an insight of better fit depending on the housebuyer interests, the following data components will be obtained and steps will be executed:<br>\n<ol>\n<li>Obtain, via scraping, the list of all the cities in the DFW area from <a href='https://www.hdavidballinger.com/dfw-metroplex.php'>https://www.hdavidballinger.com/dfw-metroplex.php</a>. The list provides the population and the distance from downtown Dallas for each city.</li>\n<li>Filter Dallas, Fort Worth and cities farer than 35 from downtown Dallas from the list.</li>    \n<li>Obtain, via API, the geolocation of each city and add it to the data frame.</li>\n<li>Obtain the nearby POIs from FourSquare, via API, for the target cities.</li>\n<li>Pivot the POIs to count the number of schools, hospitals, groceries, malls, parks and theathers per city and then use the population to obtain the ratio per capita of each type of POI.</li>    \n</ol>\nThis data will allow, then, to segment and cluster the suburb cities and perform analysis on which ones provide better services.\n"
        },
        {
            "cell_type": "code",
            "execution_count": null,
            "metadata": {},
            "outputs": [],
            "source": ""
        }
    ],
    "metadata": {
        "kernelspec": {
            "display_name": "Python 3.7",
            "language": "python",
            "name": "python3"
        },
        "language_info": {
            "codemirror_mode": {
                "name": "ipython",
                "version": 3
            },
            "file_extension": ".py",
            "mimetype": "text/x-python",
            "name": "python",
            "nbconvert_exporter": "python",
            "pygments_lexer": "ipython3",
            "version": "3.7.9"
        }
    },
    "nbformat": 4,
    "nbformat_minor": 1
}